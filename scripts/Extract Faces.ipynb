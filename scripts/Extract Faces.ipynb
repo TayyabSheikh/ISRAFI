{
 "cells": [
  {
   "cell_type": "code",
   "execution_count": 105,
   "metadata": {},
   "outputs": [],
   "source": [
    "import os\n",
    "import cv2\n",
    "import numpy as np\n",
    "from matplotlib import pyplot as plt"
   ]
  },
  {
   "cell_type": "code",
   "execution_count": 106,
   "metadata": {},
   "outputs": [],
   "source": [
    "base_dir = os.path.dirname('F:/FYP/Implementation/backend/scripts/')\n",
    "prototxt_path = os.path.join(base_dir + '/model_data/deploy.prototxt')\n",
    "caffemodel_path = os.path.join(base_dir + '/model_data/weights.caffemodel')\n",
    "\n",
    "# Read the model\n",
    "model = cv2.dnn.readNetFromCaffe(prototxt_path, caffemodel_path)"
   ]
  },
  {
   "cell_type": "code",
   "execution_count": 107,
   "metadata": {},
   "outputs": [
    {
     "name": "stdout",
     "output_type": "stream",
     "text": [
      "Image path: F:/FYP/Implementation/backend/scriptsimages/correct.jpg\n"
     ]
    }
   ],
   "source": [
    "for file in os.listdir(base_dir + '/images'):\n",
    "    file_name, file_extension = os.path.splitext(file)\n",
    "    if (file_extension in ['.png','.jpg']):\n",
    "        print(\"Image path: {}\".format(base_dir + 'images/' + file))"
   ]
  },
  {
   "cell_type": "code",
   "execution_count": 108,
   "metadata": {},
   "outputs": [],
   "source": [
    "image = cv2.imread(base_dir + '/images/' + file)\n",
    "\n",
    "(h, w) = image.shape[:2]\n",
    "blob = cv2.dnn.blobFromImage(cv2.resize(image, (300, 300)), 1.0, (300, 300), (104.0, 177.0, 123.0))\n",
    "\n",
    "model.setInput(blob)\n",
    "detections = model.forward()"
   ]
  },
  {
   "cell_type": "code",
   "execution_count": 84,
   "metadata": {},
   "outputs": [
    {
     "name": "stdout",
     "output_type": "stream",
     "text": [
      "Image twofaces.jpg converted successfully\n"
     ]
    }
   ],
   "source": [
    "# Create frame around face\n",
    "for i in range(0, detections.shape[2]):\n",
    "  box = detections[0, 0, i, 3:7] * np.array([w, h, w, h])\n",
    "  (startX, startY, endX, endY) = box.astype(\"int\")\n",
    "\n",
    "  confidence = detections[0, 0, i, 2]\n",
    "\n",
    "  # If confidence > 0.5, show box around face\n",
    "  if (confidence > 0.5):\n",
    "    cv2.rectangle(image, (startX, startY), (endX, endY), (255, 255, 255), 2)\n",
    "\n",
    "cv2.imwrite(base_dir + '/updated_images/' + file, image)\n",
    "print(\"Image \" + file + \" converted successfully\")"
   ]
  },
  {
   "cell_type": "code",
   "execution_count": 109,
   "metadata": {},
   "outputs": [],
   "source": [
    "count = 0\n",
    "for i in range(0, detections.shape[2]):\n",
    "    box = detections[0, 0, i, 3:7] * np.array([w, h, w, h])\n",
    "    (startX, startY, endX, endY) = box.astype(\"int\")\n",
    "    confidence = detections[0, 0, i, 2]\n",
    "\n",
    "  # If confidence > 0.5, save it as a separate file\n",
    "    if (confidence > 0.5):\n",
    "        count += 1\n",
    "        frame = image[startY:endY, startX:endX]\n",
    "        cv2.imwrite(base_dir + '/faces/' + str(i) + '_' + file, frame)"
   ]
  },
  {
   "cell_type": "code",
   "execution_count": 86,
   "metadata": {},
   "outputs": [],
   "source": [
    "imagePath = 'F:/FYP/Implementation/backend/scripts/images/correct.jpg'"
   ]
  },
  {
   "cell_type": "code",
   "execution_count": 87,
   "metadata": {},
   "outputs": [],
   "source": [
    "image = cv2.imread(imagePath)\n",
    "gray = cv2.cvtColor(image, cv2.COLOR_BGR2GRAY)"
   ]
  },
  {
   "cell_type": "code",
   "execution_count": 88,
   "metadata": {},
   "outputs": [
    {
     "data": {
      "text/plain": [
       "(1800, 1200, 3)"
      ]
     },
     "execution_count": 88,
     "metadata": {},
     "output_type": "execute_result"
    }
   ],
   "source": [
    "image.shape"
   ]
  },
  {
   "cell_type": "code",
   "execution_count": 89,
   "metadata": {},
   "outputs": [
    {
     "name": "stdout",
     "output_type": "stream",
     "text": [
      "Found 4 Faces!\n"
     ]
    }
   ],
   "source": [
    "faceCascade = cv2.CascadeClassifier(cv2.data.haarcascades + \"haarcascade_frontalface_default.xml\")\n",
    "faces = faceCascade.detectMultiScale(\n",
    "        gray,\n",
    "        scaleFactor=1.3,\n",
    "        minNeighbors=3,\n",
    "        minSize=(10, 10)\n",
    ")\n",
    "\n",
    "print(\"Found {0} Faces!\".format(len(faces)))"
   ]
  },
  {
   "cell_type": "code",
   "execution_count": 94,
   "metadata": {},
   "outputs": [
    {
     "name": "stdout",
     "output_type": "stream",
     "text": [
      "[INFO] Object found. Saving locally.\n",
      "[INFO] Object found. Saving locally.\n",
      "[INFO] Object found. Saving locally.\n",
      "[INFO] Object found. Saving locally.\n"
     ]
    }
   ],
   "source": [
    "for (x, y, w, h) in faces:\n",
    "    cv2.rectangle(image, (x, y), (x + w, y + h), (0, 255, 0), 2)\n",
    "    roi_color = image[y:y + h, x:x + w]\n",
    "    print(\"[INFO] Object found. Saving locally.\")\n",
    "    cv2.imwrite('F:/FYP/Implementation/backend/scripts/faces/' + str(w) + str(h) + '_faces.jpg', roi_color)"
   ]
  },
  {
   "cell_type": "code",
   "execution_count": null,
   "metadata": {},
   "outputs": [],
   "source": []
  }
 ],
 "metadata": {
  "kernelspec": {
   "display_name": "Python 3",
   "language": "python",
   "name": "python3"
  },
  "language_info": {
   "codemirror_mode": {
    "name": "ipython",
    "version": 3
   },
   "file_extension": ".py",
   "mimetype": "text/x-python",
   "name": "python",
   "nbconvert_exporter": "python",
   "pygments_lexer": "ipython3",
   "version": "3.8.8"
  }
 },
 "nbformat": 4,
 "nbformat_minor": 4
}
